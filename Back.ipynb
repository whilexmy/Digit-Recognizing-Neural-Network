{
 "cells": [
  {
   "cell_type": "code",
   "id": "initial_id",
   "metadata": {
    "collapsed": true,
    "ExecuteTime": {
     "end_time": "2025-03-09T03:55:22.662463Z",
     "start_time": "2025-03-09T03:55:19.739041Z"
    }
   },
   "source": [
    "import numpy as np\n",
    "import pandas as pd\n",
    "from matplotlib import pyplot as plt\n",
    "\n",
    "data = pd.read_csv(\"C:/Users/bektursun/PycharmProjects/pythonProject/train.csv\")"
   ],
   "outputs": [],
   "execution_count": 1
  },
  {
   "metadata": {
    "ExecuteTime": {
     "end_time": "2025-03-09T03:55:23.597575Z",
     "start_time": "2025-03-09T03:55:22.664052Z"
    }
   },
   "cell_type": "code",
   "source": [
    "data = np.array(data)\n",
    "m, n = data.shape\n",
    "np.random.shuffle(data) #shuffle before splitting into dev and training sets\n",
    "\n",
    "data_dev = data[0:1000].T\n",
    "Y_dev = data_dev[0]\n",
    "X_dev = data_dev[1:n]\n",
    "X_dev = X_dev / 255\n",
    "\n",
    "data_train = data[1000:m].T\n",
    "Y_train = data_train[0]\n",
    "X_train = data_train[1:n]\n",
    "X_train = X_train / 255"
   ],
   "id": "2f75b30e32b71274",
   "outputs": [],
   "execution_count": 2
  },
  {
   "metadata": {
    "ExecuteTime": {
     "end_time": "2025-03-09T03:55:34.988664Z",
     "start_time": "2025-03-09T03:55:34.949104Z"
    }
   },
   "cell_type": "code",
   "source": "X_train[:,0].shape",
   "id": "a3f10a3f6afdefe8",
   "outputs": [
    {
     "data": {
      "text/plain": [
       "(784,)"
      ]
     },
     "execution_count": 3,
     "metadata": {},
     "output_type": "execute_result"
    }
   ],
   "execution_count": 3
  },
  {
   "metadata": {
    "ExecuteTime": {
     "end_time": "2025-03-09T03:56:06.884216Z",
     "start_time": "2025-03-09T03:56:06.874004Z"
    }
   },
   "cell_type": "code",
   "source": [
    "def init_params():\n",
    "    W1 = np.random.rand(10, 784) - 0.5\n",
    "    b1 = np.random.rand(10, 1) - 0.5\n",
    "    W2 = np.random.rand(10, 10) - 0.5\n",
    "    b2 = np.random.rand(10, 1) - 0.5\n",
    "    return W1, b1, W2, b2\n",
    "  \n",
    "def ReLU(Z):\n",
    "    return np.maximum(0, Z)\n",
    "\n",
    "def softmax(Z):\n",
    "    Z_exp = np.exp(Z - np.max(Z, axis = 0))\n",
    "    return Z_exp / np.sum(Z_exp, axis=0)\n",
    "    \n",
    "def forward_prop(W1, b1, W2, b2, X):\n",
    "    Z1 = W1.dot(X) + b1\n",
    "    A1 = ReLU(Z1) \n",
    "    Z2 = W2.dot(A1) + b2\n",
    "    A2 = softmax(Z2)\n",
    "    return Z1, A1, Z2, A2\n",
    "\n",
    "def ReLU_deriv(Z):\n",
    "    return Z > 0\n",
    "\n",
    "def one_hot(Y):\n",
    "    one_hot_Y = np.zeros((Y.size, Y.max() + 1))\n",
    "    one_hot_Y[np.arange(Y.size), Y] = 1\n",
    "    one_hot_Y = one_hot_Y.T\n",
    "    return one_hot_Y\n",
    "\n",
    "def backward_prop(Z1, A1, Z2, A2, W1, W2, X, Y):\n",
    "    m = Y.size\n",
    "    one_hot_Y = one_hot(Y)\n",
    "    dZ2 = 2 * (A2 - one_hot_Y)\n",
    "    dW2 = 1 / m * dZ2.dot(A1.T)\n",
    "    db2 = 1 / m * np.sum(dZ2, 1)\n",
    "    dZ1 = W2.T.dot(dZ2) * ReLU_deriv(Z1)\n",
    "    dW1 = 1 / m * dZ1.dot(X.T)\n",
    "    db1 = 1 / m * np.sum(dZ1, 1)\n",
    "    return dW1, db1, dW2, db2\n",
    "\n",
    "def update_params(W1, b1, W2, b2, dW1, db1, dW2, db2, alpha):\n",
    "    W1 = W1 - alpha * dW1\n",
    "    b1 = b1 - alpha * np.reshape(db1, (10, 1))    \n",
    "    W2 = W2 - alpha * dW2  \n",
    "    b2 = b2 - alpha * np.reshape(db2, (10, 1))    \n",
    "    return W1, b1, W2, b2"
   ],
   "id": "4510eede5978f5e8",
   "outputs": [],
   "execution_count": 4
  },
  {
   "metadata": {
    "ExecuteTime": {
     "end_time": "2025-03-09T03:56:17.933564Z",
     "start_time": "2025-03-09T03:56:17.927831Z"
    }
   },
   "cell_type": "code",
   "source": [
    "def get_predictions(A2):\n",
    "    return np.argmax(A2, 0)\n",
    "\n",
    "def get_accuracy(predictions, Y):\n",
    "    return np.sum(predictions == Y) / Y.size\n",
    "\n",
    "def gradient_descent(X, Y, iterations, alpha):\n",
    "    W1, b1, W2, b2 = init_params()\n",
    "    for i in range(iterations):\n",
    "        Z1, A1, Z2, A2 = forward_prop(W1, b1, W2, b2, X)\n",
    "        dW1, db1, dW2, db2 = backward_prop(Z1, A1, Z2, A2, W1, W2, X, Y)\n",
    "        W1, b1, W2, b2 = update_params(W1, b1, W2, b2, dW1, db1, dW2, db2, alpha)\n",
    "        if i % 10 == 0:\n",
    "            print(\"Iteration: \", i)\n",
    "            predictions = get_predictions(A2)\n",
    "            print(get_accuracy(predictions, Y))\n",
    "    return W1, b1, W2, b2"
   ],
   "id": "e68bf63c28d6dddf",
   "outputs": [],
   "execution_count": 5
  },
  {
   "metadata": {
    "ExecuteTime": {
     "end_time": "2025-03-09T03:57:02.053004Z",
     "start_time": "2025-03-09T03:56:25.452948Z"
    }
   },
   "cell_type": "code",
   "source": "W1, b1, W2, b2 = gradient_descent(X_train, Y_train, 500, 0.1)",
   "id": "7abc2d52da680ccd",
   "outputs": [
    {
     "name": "stdout",
     "output_type": "stream",
     "text": [
      "Iteration:  0\n",
      "0.10075609756097562\n",
      "Iteration:  10\n",
      "0.2658048780487805\n",
      "Iteration:  20\n",
      "0.4337560975609756\n",
      "Iteration:  30\n",
      "0.5498536585365854\n",
      "Iteration:  40\n",
      "0.6271463414634146\n",
      "Iteration:  50\n",
      "0.6839024390243903\n",
      "Iteration:  60\n",
      "0.7229512195121951\n",
      "Iteration:  70\n",
      "0.7506585365853659\n",
      "Iteration:  80\n",
      "0.7698292682926829\n",
      "Iteration:  90\n",
      "0.785\n",
      "Iteration:  100\n",
      "0.7971463414634147\n",
      "Iteration:  110\n",
      "0.8073414634146342\n",
      "Iteration:  120\n",
      "0.8144390243902438\n",
      "Iteration:  130\n",
      "0.8215121951219512\n",
      "Iteration:  140\n",
      "0.8266341463414634\n",
      "Iteration:  150\n",
      "0.8316829268292683\n",
      "Iteration:  160\n",
      "0.8370487804878048\n",
      "Iteration:  170\n",
      "0.8405609756097561\n",
      "Iteration:  180\n",
      "0.8439512195121951\n",
      "Iteration:  190\n",
      "0.8472926829268292\n",
      "Iteration:  200\n",
      "0.8497560975609756\n",
      "Iteration:  210\n",
      "0.8525121951219512\n",
      "Iteration:  220\n",
      "0.8549268292682927\n",
      "Iteration:  230\n",
      "0.8574878048780488\n",
      "Iteration:  240\n",
      "0.8597073170731707\n",
      "Iteration:  250\n",
      "0.8618292682926829\n",
      "Iteration:  260\n",
      "0.8633170731707317\n",
      "Iteration:  270\n",
      "0.8648780487804878\n",
      "Iteration:  280\n",
      "0.8664878048780488\n",
      "Iteration:  290\n",
      "0.8678536585365854\n",
      "Iteration:  300\n",
      "0.8691219512195122\n",
      "Iteration:  310\n",
      "0.8703414634146341\n",
      "Iteration:  320\n",
      "0.8719268292682927\n",
      "Iteration:  330\n",
      "0.8735365853658537\n",
      "Iteration:  340\n",
      "0.8745853658536585\n",
      "Iteration:  350\n",
      "0.8757560975609756\n",
      "Iteration:  360\n",
      "0.8766829268292683\n",
      "Iteration:  370\n",
      "0.8776585365853659\n",
      "Iteration:  380\n",
      "0.8784146341463415\n",
      "Iteration:  390\n",
      "0.8795609756097561\n",
      "Iteration:  400\n",
      "0.8804878048780488\n",
      "Iteration:  410\n",
      "0.8813170731707317\n",
      "Iteration:  420\n",
      "0.8824146341463415\n",
      "Iteration:  430\n",
      "0.8828780487804878\n",
      "Iteration:  440\n",
      "0.883609756097561\n",
      "Iteration:  450\n",
      "0.8841707317073171\n",
      "Iteration:  460\n",
      "0.8847073170731707\n",
      "Iteration:  470\n",
      "0.885390243902439\n",
      "Iteration:  480\n",
      "0.8860487804878049\n",
      "Iteration:  490\n",
      "0.8867317073170732\n"
     ]
    }
   ],
   "execution_count": 6
  },
  {
   "metadata": {
    "ExecuteTime": {
     "end_time": "2025-03-09T03:57:02.058855Z",
     "start_time": "2025-03-09T03:57:02.054185Z"
    }
   },
   "cell_type": "code",
   "source": [
    "def make_predictions(X, W1, b1, W2, b2):\n",
    "    _, _, _, A2 = forward_prop(W1, b1, W2, b2, X)\n",
    "    predictions = get_predictions(A2)\n",
    "    return predictions\n",
    "\n",
    "def test_prediction(index, W1, b1, W2, b2):\n",
    "    current_image = X_train[:, index, None]\n",
    "    prediction = make_predictions(X_train[:, index, None], W1, b1, W2, b2)\n",
    "    label = Y_train[index]\n",
    "    print(\"Prediction: \", prediction)\n",
    "    print(\"Label: \", label)\n",
    "    \n",
    "    current_image = current_image.reshape((28, 28)) * 255\n",
    "    plt.gray()\n",
    "    plt.imshow(current_image, interpolation='nearest')\n",
    "    plt.show()"
   ],
   "id": "c47a71a81d2b8ab4",
   "outputs": [],
   "execution_count": 7
  },
  {
   "metadata": {},
   "cell_type": "code",
   "outputs": [],
   "execution_count": null,
   "source": "",
   "id": "b48667ae3e9a1994"
  }
 ],
 "metadata": {
  "kernelspec": {
   "display_name": "Python 3",
   "language": "python",
   "name": "python3"
  },
  "language_info": {
   "codemirror_mode": {
    "name": "ipython",
    "version": 2
   },
   "file_extension": ".py",
   "mimetype": "text/x-python",
   "name": "python",
   "nbconvert_exporter": "python",
   "pygments_lexer": "ipython2",
   "version": "2.7.6"
  }
 },
 "nbformat": 4,
 "nbformat_minor": 5
}

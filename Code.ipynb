{
 "cells": [
  {
   "cell_type": "code",
   "id": "initial_id",
   "metadata": {
    "collapsed": true,
    "ExecuteTime": {
     "end_time": "2025-03-09T05:26:40.604318Z",
     "start_time": "2025-03-09T05:26:37.785214Z"
    }
   },
   "source": [
    "import numpy as np\n",
    "import pandas as pd\n",
    "from matplotlib import pyplot as plt\n",
    "\n",
    "data = pd.read_csv(\"C:/Users/bektursun/PycharmProjects/pythonProject/train.csv\")"
   ],
   "outputs": [],
   "execution_count": 1
  },
  {
   "metadata": {
    "ExecuteTime": {
     "end_time": "2025-03-09T05:26:45.083231Z",
     "start_time": "2025-03-09T05:26:44.201547Z"
    }
   },
   "cell_type": "code",
   "source": [
    "data = np.array(data)\n",
    "m, n = data.shape\n",
    "np.random.shuffle(data) #shuffle before splitting into dev and training sets\n",
    "\n",
    "data_dev = data[0:1000].T\n",
    "Y_dev = data_dev[0]\n",
    "X_dev = data_dev[1:n]\n",
    "X_dev = X_dev / 255\n",
    "\n",
    "data_train = data[1000:m].T\n",
    "Y_train = data_train[0]\n",
    "X_train = data_train[1:n]\n",
    "X_train = X_train / 255"
   ],
   "id": "13f9ff8d111400bb",
   "outputs": [],
   "execution_count": 2
  },
  {
   "metadata": {
    "ExecuteTime": {
     "end_time": "2025-03-09T05:26:50.037583Z",
     "start_time": "2025-03-09T05:26:50.029931Z"
    }
   },
   "cell_type": "code",
   "source": "X_train[:,0].shape",
   "id": "abe8e62aecd44ecf",
   "outputs": [
    {
     "data": {
      "text/plain": [
       "(784,)"
      ]
     },
     "execution_count": 3,
     "metadata": {},
     "output_type": "execute_result"
    }
   ],
   "execution_count": 3
  },
  {
   "metadata": {
    "ExecuteTime": {
     "end_time": "2025-03-09T05:26:59.637753Z",
     "start_time": "2025-03-09T05:26:59.629084Z"
    }
   },
   "cell_type": "code",
   "source": [
    "def init_params():\n",
    "    W1 = np.random.rand(10, 784) - 0.5\n",
    "    b1 = np.random.rand(10, 1) - 0.5\n",
    "    W2 = np.random.rand(10, 10) - 0.5\n",
    "    b2 = np.random.rand(10, 1) - 0.5\n",
    "    return W1, b1, W2, b2\n",
    "  \n",
    "def ReLU(Z):\n",
    "    return np.maximum(0, Z)\n",
    "\n",
    "def softmax(Z):\n",
    "    Z_exp = np.exp(Z - np.max(Z, axis = 0))\n",
    "    return Z_exp / np.sum(Z_exp, axis=0)\n",
    "    \n",
    "def forward_prop(W1, b1, W2, b2, X):\n",
    "    Z1 = W1.dot(X) + b1\n",
    "    A1 = ReLU(Z1) \n",
    "    Z2 = W2.dot(A1) + b2\n",
    "    A2 = softmax(Z2)\n",
    "    return Z1, A1, Z2, A2\n",
    "\n",
    "def ReLU_deriv(Z):\n",
    "    return Z > 0\n",
    "\n",
    "def one_hot(Y):\n",
    "    one_hot_Y = np.zeros((Y.size, Y.max() + 1))\n",
    "    one_hot_Y[np.arange(Y.size), Y] = 1\n",
    "    one_hot_Y = one_hot_Y.T\n",
    "    return one_hot_Y\n",
    "\n",
    "def backward_prop(Z1, A1, Z2, A2, W1, W2, X, Y):\n",
    "    m = Y.size\n",
    "    one_hot_Y = one_hot(Y)\n",
    "    dZ2 = 2 * (A2 - one_hot_Y)\n",
    "    dW2 = 1 / m * dZ2.dot(A1.T)\n",
    "    db2 = 1 / m * np.sum(dZ2, 1)\n",
    "    dZ1 = W2.T.dot(dZ2) * ReLU_deriv(Z1)\n",
    "    dW1 = 1 / m * dZ1.dot(X.T)\n",
    "    db1 = 1 / m * np.sum(dZ1, 1)\n",
    "    return dW1, db1, dW2, db2\n",
    "\n",
    "def update_params(W1, b1, W2, b2, dW1, db1, dW2, db2, alpha):\n",
    "    W1 = W1 - alpha * dW1\n",
    "    b1 = b1 - alpha * np.reshape(db1, (10, 1))    \n",
    "    W2 = W2 - alpha * dW2  \n",
    "    b2 = b2 - alpha * np.reshape(db2, (10, 1))    \n",
    "    return W1, b1, W2, b2"
   ],
   "id": "d99b843856a6faec",
   "outputs": [],
   "execution_count": 4
  },
  {
   "metadata": {
    "ExecuteTime": {
     "end_time": "2025-03-09T05:27:07.026129Z",
     "start_time": "2025-03-09T05:27:07.021341Z"
    }
   },
   "cell_type": "code",
   "source": [
    "def get_predictions(A2):\n",
    "    return np.argmax(A2, 0)\n",
    "\n",
    "def get_accuracy(predictions, Y):\n",
    "    return np.sum(predictions == Y) / Y.size\n",
    "\n",
    "def gradient_descent(X, Y, iterations, alpha):\n",
    "    W1, b1, W2, b2 = init_params()\n",
    "    for i in range(iterations):\n",
    "        Z1, A1, Z2, A2 = forward_prop(W1, b1, W2, b2, X)\n",
    "        dW1, db1, dW2, db2 = backward_prop(Z1, A1, Z2, A2, W1, W2, X, Y)\n",
    "        W1, b1, W2, b2 = update_params(W1, b1, W2, b2, dW1, db1, dW2, db2, alpha)\n",
    "        if i % 10 == 0:\n",
    "            print(\"Iteration: \", i)\n",
    "            predictions = get_predictions(A2)\n",
    "            print(get_accuracy(predictions, Y))\n",
    "    return W1, b1, W2, b2"
   ],
   "id": "f3dbdb4198361685",
   "outputs": [],
   "execution_count": 5
  },
  {
   "metadata": {
    "jupyter": {
     "is_executing": true
    },
    "ExecuteTime": {
     "start_time": "2025-03-09T05:27:13.479870Z"
    }
   },
   "cell_type": "code",
   "source": "W1, b1, W2, b2 = gradient_descent(X_train, Y_train, 500, 0.1)",
   "id": "fd334ddd9d866419",
   "outputs": [
    {
     "name": "stdout",
     "output_type": "stream",
     "text": [
      "Iteration:  0\n",
      "0.14353658536585365\n",
      "Iteration:  10\n",
      "0.32882926829268294\n",
      "Iteration:  20\n",
      "0.46997560975609753\n",
      "Iteration:  30\n",
      "0.5613170731707318\n",
      "Iteration:  40\n",
      "0.6300243902439024\n",
      "Iteration:  50\n",
      "0.6807317073170732\n",
      "Iteration:  60\n",
      "0.7158048780487805\n",
      "Iteration:  70\n",
      "0.740780487804878\n",
      "Iteration:  80\n",
      "0.7596585365853659\n",
      "Iteration:  90\n",
      "0.7745121951219512\n",
      "Iteration:  100\n",
      "0.7867804878048781\n",
      "Iteration:  110\n",
      "0.7973414634146342\n",
      "Iteration:  120\n",
      "0.8053658536585366\n",
      "Iteration:  130\n",
      "0.8084634146341464\n",
      "Iteration:  140\n",
      "0.774829268292683\n",
      "Iteration:  150\n",
      "0.8130487804878048\n",
      "Iteration:  160\n",
      "0.8254146341463414\n",
      "Iteration:  170\n",
      "0.831390243902439\n",
      "Iteration:  180\n",
      "0.8352682926829268\n",
      "Iteration:  190\n",
      "0.837780487804878\n",
      "Iteration:  200\n",
      "0.8382926829268292\n",
      "Iteration:  210\n",
      "0.8399512195121951\n",
      "Iteration:  220\n",
      "0.8428292682926829\n",
      "Iteration:  230\n",
      "0.847170731707317\n",
      "Iteration:  240\n",
      "0.8503658536585366\n",
      "Iteration:  250\n",
      "0.852780487804878\n",
      "Iteration:  260\n",
      "0.8548048780487805\n",
      "Iteration:  270\n",
      "0.8562439024390244\n",
      "Iteration:  280\n",
      "0.8575365853658536\n",
      "Iteration:  290\n",
      "0.858780487804878\n",
      "Iteration:  300\n",
      "0.8598536585365854\n",
      "Iteration:  310\n",
      "0.8611707317073171\n",
      "Iteration:  320\n",
      "0.8625365853658536\n"
     ]
    }
   ],
   "execution_count": null
  },
  {
   "metadata": {
    "jupyter": {
     "is_executing": true
    }
   },
   "cell_type": "code",
   "source": [
    "def make_predictions(X, W1, b1, W2, b2):\n",
    "    _, _, _, A2 = forward_prop(W1, b1, W2, b2, X)\n",
    "    predictions = get_predictions(A2)\n",
    "    return predictions\n",
    "\n",
    "def test_prediction(index, W1, b1, W2, b2):\n",
    "    current_image = X_train[:, index, None]\n",
    "    prediction = make_predictions(X_train[:, index, None], W1, b1, W2, b2)\n",
    "    label = Y_train[index]\n",
    "    print(\"Prediction: \", prediction)\n",
    "    print(\"Label: \", label)\n",
    "    \n",
    "    current_image = current_image.reshape((28, 28)) * 255\n",
    "    plt.gray()\n",
    "    plt.imshow(current_image, interpolation='nearest')\n",
    "    plt.show()"
   ],
   "id": "119337e5a08d0499",
   "outputs": [],
   "execution_count": null
  },
  {
   "metadata": {},
   "cell_type": "code",
   "outputs": [],
   "execution_count": null,
   "source": [
    "test_prediction(0, W1, b1, W2, b2)\n",
    "test_prediction(1, W1, b1, W2, b2)\n",
    "test_prediction(2, W1, b1, W2, b2)"
   ],
   "id": "73f4c03ebca55a5d"
  }
 ],
 "metadata": {
  "kernelspec": {
   "display_name": "Python 3",
   "language": "python",
   "name": "python3"
  },
  "language_info": {
   "codemirror_mode": {
    "name": "ipython",
    "version": 2
   },
   "file_extension": ".py",
   "mimetype": "text/x-python",
   "name": "python",
   "nbconvert_exporter": "python",
   "pygments_lexer": "ipython2",
   "version": "2.7.6"
  }
 },
 "nbformat": 4,
 "nbformat_minor": 5
}
